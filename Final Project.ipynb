{
 "cells": [
  {
   "cell_type": "markdown",
   "id": "b5308c55",
   "metadata": {},
   "source": [
    "## Analysis of COVID-19 Data in Japan"
   ]
  },
  {
   "cell_type": "markdown",
   "id": "8636de1e",
   "metadata": {},
   "source": [
    "Parker Perkins\n",
    "perkinlp@dukes.jmu.edu\n",
    "IA 241"
   ]
  },
  {
   "cell_type": "markdown",
   "id": "6d197beb",
   "metadata": {},
   "source": [
    "### Introduction"
   ]
  },
  {
   "cell_type": "markdown",
   "id": "627fd1a1",
   "metadata": {},
   "source": [
    "\"Coronavirus disease (COVID-19) is an infectious disease caused by the SARS-CoV-2 virus.\n",
    "\n",
    "Most people infected with the virus will experience mild to moderate respiratory illness and recover without requiring special treatment. However, some will become seriously ill and require medical attention. Older people and those with underlying medical conditions like cardiovascular disease, diabetes, chronic respiratory disease, or cancer are more likely to develop serious illness. Anyone can get sick with COVID-19 and become seriously ill or die at any age.\"\n",
    "[World Health Organization](https://www.who.int/health-topics/coronavirus?msclkid=9df4318ccec711ec837afaf696c4400a#tab=tab_1)\n",
    "\n",
    "COVID-19 was declared a worldwide pandemic in 2020, effecting every nation, including Japan."
   ]
  },
  {
   "cell_type": "markdown",
   "id": "5258fdf3",
   "metadata": {},
   "source": [
    "### Data Source"
   ]
  },
  {
   "cell_type": "markdown",
   "id": "1181caf9",
   "metadata": {},
   "source": [
    "[European Center for Disease Prevention and Control](https://www.ecdc.europa.eu/en/publications-data/download-todays-data-geographic-distribution-covid-19-cases-worldwide)"
   ]
  },
  {
   "cell_type": "code",
   "execution_count": 1,
   "id": "ca178265",
   "metadata": {},
   "outputs": [],
   "source": [
    "%matplotlib inline\n",
    "import pandas\n",
    "import matplotlib.pyplot as plt"
   ]
  },
  {
   "cell_type": "markdown",
   "id": "8b4db4b6",
   "metadata": {},
   "source": [
    "### Importing Data"
   ]
  },
  {
   "cell_type": "code",
   "execution_count": 2,
   "id": "97919335",
   "metadata": {},
   "outputs": [],
   "source": [
    "df = pandas.read_excel('s3://ia241-perkinlp/covid_data.xls')"
   ]
  },
  {
   "cell_type": "code",
   "execution_count": 3,
   "id": "0743ed46",
   "metadata": {},
   "outputs": [
    {
     "data": {
      "text/html": [
       "<div>\n",
       "<style scoped>\n",
       "    .dataframe tbody tr th:only-of-type {\n",
       "        vertical-align: middle;\n",
       "    }\n",
       "\n",
       "    .dataframe tbody tr th {\n",
       "        vertical-align: top;\n",
       "    }\n",
       "\n",
       "    .dataframe thead th {\n",
       "        text-align: right;\n",
       "    }\n",
       "</style>\n",
       "<table border=\"1\" class=\"dataframe\">\n",
       "  <thead>\n",
       "    <tr style=\"text-align: right;\">\n",
       "      <th></th>\n",
       "      <th>dateRep</th>\n",
       "      <th>day</th>\n",
       "      <th>month</th>\n",
       "      <th>year</th>\n",
       "      <th>cases</th>\n",
       "      <th>deaths</th>\n",
       "      <th>countriesAndTerritories</th>\n",
       "      <th>geoId</th>\n",
       "      <th>countryterritoryCode</th>\n",
       "      <th>popData2019</th>\n",
       "      <th>continentExp</th>\n",
       "      <th>Cumulative_number_for_14_days_of_COVID-19_cases_per_100000</th>\n",
       "    </tr>\n",
       "  </thead>\n",
       "  <tbody>\n",
       "    <tr>\n",
       "      <th>29726</th>\n",
       "      <td>14/12/2020</td>\n",
       "      <td>14</td>\n",
       "      <td>12</td>\n",
       "      <td>2020</td>\n",
       "      <td>2366</td>\n",
       "      <td>23</td>\n",
       "      <td>Japan</td>\n",
       "      <td>JP</td>\n",
       "      <td>JPN</td>\n",
       "      <td>126860299.0</td>\n",
       "      <td>Asia</td>\n",
       "      <td>25.928522</td>\n",
       "    </tr>\n",
       "    <tr>\n",
       "      <th>29727</th>\n",
       "      <td>13/12/2020</td>\n",
       "      <td>13</td>\n",
       "      <td>12</td>\n",
       "      <td>2020</td>\n",
       "      <td>2988</td>\n",
       "      <td>28</td>\n",
       "      <td>Japan</td>\n",
       "      <td>JP</td>\n",
       "      <td>JPN</td>\n",
       "      <td>126860299.0</td>\n",
       "      <td>Asia</td>\n",
       "      <td>25.724360</td>\n",
       "    </tr>\n",
       "    <tr>\n",
       "      <th>29728</th>\n",
       "      <td>2020-12-12 00:00:00</td>\n",
       "      <td>12</td>\n",
       "      <td>12</td>\n",
       "      <td>2020</td>\n",
       "      <td>2757</td>\n",
       "      <td>32</td>\n",
       "      <td>Japan</td>\n",
       "      <td>JP</td>\n",
       "      <td>JPN</td>\n",
       "      <td>126860299.0</td>\n",
       "      <td>Asia</td>\n",
       "      <td>25.406688</td>\n",
       "    </tr>\n",
       "    <tr>\n",
       "      <th>29729</th>\n",
       "      <td>2020-11-12 00:00:00</td>\n",
       "      <td>11</td>\n",
       "      <td>12</td>\n",
       "      <td>2020</td>\n",
       "      <td>2969</td>\n",
       "      <td>37</td>\n",
       "      <td>Japan</td>\n",
       "      <td>JP</td>\n",
       "      <td>JPN</td>\n",
       "      <td>126860299.0</td>\n",
       "      <td>Asia</td>\n",
       "      <td>25.264799</td>\n",
       "    </tr>\n",
       "    <tr>\n",
       "      <th>29730</th>\n",
       "      <td>2020-10-12 00:00:00</td>\n",
       "      <td>10</td>\n",
       "      <td>12</td>\n",
       "      <td>2020</td>\n",
       "      <td>2733</td>\n",
       "      <td>45</td>\n",
       "      <td>Japan</td>\n",
       "      <td>JP</td>\n",
       "      <td>JPN</td>\n",
       "      <td>126860299.0</td>\n",
       "      <td>Asia</td>\n",
       "      <td>24.682269</td>\n",
       "    </tr>\n",
       "    <tr>\n",
       "      <th>29731</th>\n",
       "      <td>2020-09-12 00:00:00</td>\n",
       "      <td>9</td>\n",
       "      <td>12</td>\n",
       "      <td>2020</td>\n",
       "      <td>1911</td>\n",
       "      <td>38</td>\n",
       "      <td>Japan</td>\n",
       "      <td>JP</td>\n",
       "      <td>JPN</td>\n",
       "      <td>126860299.0</td>\n",
       "      <td>Asia</td>\n",
       "      <td>23.994899</td>\n",
       "    </tr>\n",
       "    <tr>\n",
       "      <th>29732</th>\n",
       "      <td>2020-08-12 00:00:00</td>\n",
       "      <td>8</td>\n",
       "      <td>12</td>\n",
       "      <td>2020</td>\n",
       "      <td>1862</td>\n",
       "      <td>47</td>\n",
       "      <td>Japan</td>\n",
       "      <td>JP</td>\n",
       "      <td>JPN</td>\n",
       "      <td>126860299.0</td>\n",
       "      <td>Asia</td>\n",
       "      <td>23.648060</td>\n",
       "    </tr>\n",
       "    <tr>\n",
       "      <th>29733</th>\n",
       "      <td>2020-07-12 00:00:00</td>\n",
       "      <td>7</td>\n",
       "      <td>12</td>\n",
       "      <td>2020</td>\n",
       "      <td>1969</td>\n",
       "      <td>20</td>\n",
       "      <td>Japan</td>\n",
       "      <td>JP</td>\n",
       "      <td>JPN</td>\n",
       "      <td>126860299.0</td>\n",
       "      <td>Asia</td>\n",
       "      <td>24.554569</td>\n",
       "    </tr>\n",
       "    <tr>\n",
       "      <th>29734</th>\n",
       "      <td>2020-06-12 00:00:00</td>\n",
       "      <td>6</td>\n",
       "      <td>12</td>\n",
       "      <td>2020</td>\n",
       "      <td>2424</td>\n",
       "      <td>32</td>\n",
       "      <td>Japan</td>\n",
       "      <td>JP</td>\n",
       "      <td>JPN</td>\n",
       "      <td>126860299.0</td>\n",
       "      <td>Asia</td>\n",
       "      <td>23.584211</td>\n",
       "    </tr>\n",
       "    <tr>\n",
       "      <th>29735</th>\n",
       "      <td>2020-05-12 00:00:00</td>\n",
       "      <td>5</td>\n",
       "      <td>12</td>\n",
       "      <td>2020</td>\n",
       "      <td>2442</td>\n",
       "      <td>43</td>\n",
       "      <td>Japan</td>\n",
       "      <td>JP</td>\n",
       "      <td>JPN</td>\n",
       "      <td>126860299.0</td>\n",
       "      <td>Asia</td>\n",
       "      <td>23.655155</td>\n",
       "    </tr>\n",
       "  </tbody>\n",
       "</table>\n",
       "</div>"
      ],
      "text/plain": [
       "                   dateRep  day  month  year  cases  deaths  \\\n",
       "29726           14/12/2020   14     12  2020   2366      23   \n",
       "29727           13/12/2020   13     12  2020   2988      28   \n",
       "29728  2020-12-12 00:00:00   12     12  2020   2757      32   \n",
       "29729  2020-11-12 00:00:00   11     12  2020   2969      37   \n",
       "29730  2020-10-12 00:00:00   10     12  2020   2733      45   \n",
       "29731  2020-09-12 00:00:00    9     12  2020   1911      38   \n",
       "29732  2020-08-12 00:00:00    8     12  2020   1862      47   \n",
       "29733  2020-07-12 00:00:00    7     12  2020   1969      20   \n",
       "29734  2020-06-12 00:00:00    6     12  2020   2424      32   \n",
       "29735  2020-05-12 00:00:00    5     12  2020   2442      43   \n",
       "\n",
       "      countriesAndTerritories geoId countryterritoryCode  popData2019  \\\n",
       "29726                   Japan    JP                  JPN  126860299.0   \n",
       "29727                   Japan    JP                  JPN  126860299.0   \n",
       "29728                   Japan    JP                  JPN  126860299.0   \n",
       "29729                   Japan    JP                  JPN  126860299.0   \n",
       "29730                   Japan    JP                  JPN  126860299.0   \n",
       "29731                   Japan    JP                  JPN  126860299.0   \n",
       "29732                   Japan    JP                  JPN  126860299.0   \n",
       "29733                   Japan    JP                  JPN  126860299.0   \n",
       "29734                   Japan    JP                  JPN  126860299.0   \n",
       "29735                   Japan    JP                  JPN  126860299.0   \n",
       "\n",
       "      continentExp  Cumulative_number_for_14_days_of_COVID-19_cases_per_100000  \n",
       "29726         Asia                                          25.928522           \n",
       "29727         Asia                                          25.724360           \n",
       "29728         Asia                                          25.406688           \n",
       "29729         Asia                                          25.264799           \n",
       "29730         Asia                                          24.682269           \n",
       "29731         Asia                                          23.994899           \n",
       "29732         Asia                                          23.648060           \n",
       "29733         Asia                                          24.554569           \n",
       "29734         Asia                                          23.584211           \n",
       "29735         Asia                                          23.655155           "
      ]
     },
     "execution_count": 3,
     "metadata": {},
     "output_type": "execute_result"
    }
   ],
   "source": [
    "df = pandas.read_excel('s3://ia241-perkinlp/covid_data.xls')\n",
    "jp_data = df.loc[df['countriesAndTerritories'] == 'Japan']\n",
    "jp_data[:10]"
   ]
  },
  {
   "cell_type": "markdown",
   "id": "8995d297",
   "metadata": {},
   "source": [
    "## What was Japan's deadliest month in 2020?"
   ]
  },
  {
   "cell_type": "code",
   "execution_count": 4,
   "id": "b0244324",
   "metadata": {},
   "outputs": [
    {
     "data": {
      "text/plain": [
       "<AxesSubplot:xlabel='month'>"
      ]
     },
     "execution_count": 4,
     "metadata": {},
     "output_type": "execute_result"
    },
    {
     "data": {
      "image/png": "[encoded data removed]",
      "text/plain": [
       "<Figure size 432x288 with 1 Axes>"
      ]
     },
     "metadata": {
      "needs_background": "light"
     },
     "output_type": "display_data"
    }
   ],
   "source": [
    "deadliest_month = jp_data.groupby('month').sum()['deaths']\n",
    "deadliest_month.plot.bar()"
   ]
  },
  {
   "cell_type": "markdown",
   "id": "8bb2ce8b",
   "metadata": {},
   "source": [
    "This bar plot shows that May 2020 was the deadliest month for Japan, followed closely by December. For calculations, the deaths were summed and then grouped by month to allow for visualization of the deaths per each month."
   ]
  },
  {
   "cell_type": "markdown",
   "id": "f0ce45aa",
   "metadata": {},
   "source": [
    "## How did the pandemic progress in Japan in 2020?"
   ]
  },
  {
   "cell_type": "code",
   "execution_count": 5,
   "id": "eaab6067",
   "metadata": {},
   "outputs": [
    {
     "data": {
      "text/plain": [
       "<AxesSubplot:xlabel='month'>"
      ]
     },
     "execution_count": 5,
     "metadata": {},
     "output_type": "execute_result"
    },
    {
     "data": {
      "image/png": "[encoded data removed]",
      "text/plain": [
       "<Figure size 432x288 with 1 Axes>"
      ]
     },
     "metadata": {
      "needs_background": "light"
     },
     "output_type": "display_data"
    }
   ],
   "source": [
    "sum_cases_per_day = jp_data.groupby('month').sum()['cases']\n",
    "sum_cases_per_day.plot()"
   ]
  },
  {
   "cell_type": "markdown",
   "id": "6e218ca5",
   "metadata": {},
   "source": [
    "The number of cases in Japan steadily grew over 2020 with noticable spikes in cases in April, August, and November. For calculations, the cases were summed and then grouped by month to allow for visualization of the deaths per each month. A line graph was used to allow for easier visualization of trends."
   ]
  },
  {
   "cell_type": "markdown",
   "id": "5d058fef",
   "metadata": {},
   "source": [
    "## How did Japan's case to population ratio compare to the US' in 2020?"
   ]
  },
  {
   "cell_type": "code",
   "execution_count": 6,
   "id": "3b534f3b",
   "metadata": {},
   "outputs": [
    {
     "data": {
      "text/plain": [
       "16256754"
      ]
     },
     "execution_count": 6,
     "metadata": {},
     "output_type": "execute_result"
    }
   ],
   "source": [
    "df = pandas.read_excel('s3://ia241-perkinlp/covid_data.xls')\n",
    "us_data = df.loc[df['countriesAndTerritories'] == 'United_States_of_America']\n",
    "us_cases = us_data.sum()['cases']\n",
    "us_cases"
   ]
  },
  {
   "cell_type": "code",
   "execution_count": 7,
   "id": "38f48edf",
   "metadata": {},
   "outputs": [
    {
     "data": {
      "text/plain": [
       "179653"
      ]
     },
     "execution_count": 7,
     "metadata": {},
     "output_type": "execute_result"
    }
   ],
   "source": [
    "jp_cases = jp_data.sum()['cases']\n",
    "jp_cases"
   ]
  },
  {
   "cell_type": "code",
   "execution_count": 8,
   "id": "34e1704b",
   "metadata": {},
   "outputs": [
    {
     "data": {
      "text/plain": [
       "16077101"
      ]
     },
     "execution_count": 8,
     "metadata": {},
     "output_type": "execute_result"
    }
   ],
   "source": [
    "us_cases - jp_cases"
   ]
  },
  {
   "cell_type": "code",
   "execution_count": 9,
   "id": "94177ff0",
   "metadata": {},
   "outputs": [
    {
     "data": {
      "text/plain": [
       "329064917.0"
      ]
     },
     "execution_count": 9,
     "metadata": {},
     "output_type": "execute_result"
    }
   ],
   "source": [
    "us_population = us_data.median()['popData2019']\n",
    "us_population"
   ]
  },
  {
   "cell_type": "code",
   "execution_count": 10,
   "id": "9bfe0cea",
   "metadata": {},
   "outputs": [
    {
     "data": {
      "text/plain": [
       "126860299.0"
      ]
     },
     "execution_count": 10,
     "metadata": {},
     "output_type": "execute_result"
    }
   ],
   "source": [
    "jp_population = jp_data.median()['popData2019']\n",
    "jp_population"
   ]
  },
  {
   "cell_type": "code",
   "execution_count": 11,
   "id": "8df5ea6f",
   "metadata": {},
   "outputs": [
    {
     "data": {
      "text/plain": [
       "0.0014161483254899155"
      ]
     },
     "execution_count": 11,
     "metadata": {},
     "output_type": "execute_result"
    }
   ],
   "source": [
    "jp_cases/jp_population"
   ]
  },
  {
   "cell_type": "code",
   "execution_count": 12,
   "id": "2b64253b",
   "metadata": {},
   "outputs": [
    {
     "data": {
      "text/plain": [
       "0.04940287815610559"
      ]
     },
     "execution_count": 12,
     "metadata": {},
     "output_type": "execute_result"
    }
   ],
   "source": [
    "us_cases/us_population"
   ]
  },
  {
   "cell_type": "markdown",
   "id": "3249328d",
   "metadata": {},
   "source": [
    "Japan had a much lower case to population ratio, with around .00142 cases per person, while the US had .0494 cases per person. For calculations, the summed cases from each country were divided by the median populations to provide us with the ratios."
   ]
  },
  {
   "cell_type": "markdown",
   "id": "506bd095",
   "metadata": {},
   "source": [
    "## How does Japan's average number of cases per month compare to the rest of Asia?"
   ]
  },
  {
   "cell_type": "code",
   "execution_count": 13,
   "id": "06ce45ef",
   "metadata": {},
   "outputs": [
    {
     "data": {
      "text/plain": [
       "<AxesSubplot:title={'center':'Average Cases per Month in Asia'}, xlabel='month'>"
      ]
     },
     "execution_count": 13,
     "metadata": {},
     "output_type": "execute_result"
    },
    {
     "data": {
      "image/png": "[encoded data removed]",
      "text/plain": [
       "<Figure size 432x288 with 1 Axes>"
      ]
     },
     "metadata": {
      "needs_background": "light"
     },
     "output_type": "display_data"
    }
   ],
   "source": [
    "df = pandas.read_excel('s3://ia241-perkinlp/covid_data.xls')\n",
    "asia_data = df.loc[df['continentExp'] == 'Asia']\n",
    "plt.title('Average Cases per Month in Asia')\n",
    "avg_cases_per_month_as = asia_data.groupby('month').mean()['cases']\n",
    "avg_cases_per_month_as.plot()"
   ]
  },
  {
   "cell_type": "code",
   "execution_count": 14,
   "id": "111b6dc6",
   "metadata": {
    "scrolled": true
   },
   "outputs": [
    {
     "data": {
      "text/plain": [
       "<AxesSubplot:title={'center':'Average Cases per Month in Japan'}, xlabel='month'>"
      ]
     },
     "execution_count": 14,
     "metadata": {},
     "output_type": "execute_result"
    },
    {
     "data": {
      "image/png": "[encoded data removed]",
      "text/plain": [
       "<Figure size 432x288 with 1 Axes>"
      ]
     },
     "metadata": {
      "needs_background": "light"
     },
     "output_type": "display_data"
    }
   ],
   "source": [
    "plt.title('Average Cases per Month in Japan')\n",
    "avg_cases_per_month_jp = jp_data.groupby('month').mean()['cases']\n",
    "avg_cases_per_month_jp.plot()"
   ]
  },
  {
   "cell_type": "markdown",
   "id": "c7f8d102",
   "metadata": {},
   "source": [
    "Japan followed a similar trend to the rest of Asia, though typically averaging fewer cases than their neighbors. For calculations, a mean was used to average the number of cases, and then group them by months."
   ]
  },
  {
   "cell_type": "markdown",
   "id": "cf7eac2a",
   "metadata": {},
   "source": [
    "# Conclusion"
   ]
  },
  {
   "cell_type": "markdown",
   "id": "2cc8bfac",
   "metadata": {},
   "source": [
    "This website helps to both explain spikes in COVID deaths in Japan, in addition to helping assess Japan's response to the pandemic in comparison to their peers. In the first half of the website, a link can be drawn between the months with high cases, and the months with high deaths. Almost every month with a case spike in Japan was followed by a death spike (April-May, November-December). This can help health authorities anticipate spikes in death and hospitalization.\n",
    "\n",
    "In the second half, Japan's efforts are compared. Japan's case to population ratio is revealed to be lower than the US's, indicating a more successful response to limiting the spread of COVID-19 than America. Similarly, in the last section, Japan's average cases per month are typically lower than the rest of Asia, demonstrating their relative success in reducing COVID spread in 2020. This can help to identify effective public health strategies.\n",
    "\n",
    "Limitations:\n",
    "There are some limitations to this data. Conclusions can only be used in the context of 2020, which is where this data is from. Due to new variants of COVID emerging every day, conclusions regarding the links with high case and death rates (following each other in monthly spikes) may not apply. Similarly, the Japanese data was only compared to the US and Asia, and therefore can only be discussed in comparison to those two regions/countries.\n",
    "\n",
    "Improvements:\n",
    "To mitigate some of the limitations, it would be helpful to include more recent data and compare it to more countries/regions. This would provide a more updated and relevant understanding of the Japanese response to COVID-19, and would allow us to draw more conclusions due to the newer data and comparisons. In addition, developing a vizualization for the case to population ratios would make the data easier to understand and share."
   ]
  }
 ],
 "metadata": {
  "kernelspec": {
   "display_name": "conda_python3",
   "language": "python",
   "name": "conda_python3"
  },
  "language_info": {
   "codemirror_mode": {
    "name": "ipython",
    "version": 3
   },
   "file_extension": ".py",
   "mimetype": "text/x-python",
   "name": "python",
   "nbconvert_exporter": "python",
   "pygments_lexer": "ipython3",
   "version": "3.6.13"
  }
 },
 "nbformat": 4,
 "nbformat_minor": 5
}
