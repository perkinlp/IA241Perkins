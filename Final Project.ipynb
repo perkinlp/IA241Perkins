{
 "cells": [
  {
   "cell_type": "markdown",
   "id": "0b164392",
   "metadata": {},
   "source": [
    "## Analysis of COVID-19 Data in Japan"
   ]
  },
  {
   "cell_type": "markdown",
   "id": "e5a3c029",
   "metadata": {},
   "source": [
    "Parker Perkins\n",
    "perkinlp@dukes.jmu.edu\n",
    "IA 241"
   ]
  },
  {
   "cell_type": "markdown",
   "id": "bab968c2",
   "metadata": {},
   "source": [
    "### Introduction"
   ]
  },
  {
   "cell_type": "markdown",
   "id": "334aebda",
   "metadata": {},
   "source": [
    "\"Coronavirus disease (COVID-19) is an infectious disease caused by the SARS-CoV-2 virus.\n",
    "\n",
    "Most people infected with the virus will experience mild to moderate respiratory illness and recover without requiring special treatment. However, some will become seriously ill and require medical attention. Older people and those with underlying medical conditions like cardiovascular disease, diabetes, chronic respiratory disease, or cancer are more likely to develop serious illness. Anyone can get sick with COVID-19 and become seriously ill or die at any age.\"\n",
    "[World Health Organization](https://www.who.int/health-topics/coronavirus?msclkid=9df4318ccec711ec837afaf696c4400a#tab=tab_1)\n",
    "\n",
    "COVID-19 was declared a worldwide pandemic in 2020, effecting every nation, including Japan."
   ]
  },
  {
   "cell_type": "markdown",
   "id": "be65c549",
   "metadata": {},
   "source": [
    "### Data Source"
   ]
  },
  {
   "cell_type": "markdown",
   "id": "e05ec298",
   "metadata": {},
   "source": [
    "[European Center for Disease Prevention and Control](https://www.ecdc.europa.eu/en/publications-data/download-todays-data-geographic-distribution-covid-19-cases-worldwide)"
   ]
  },
  {
   "cell_type": "code",
   "execution_count": null,
   "id": "700e4f2a",
   "metadata": {},
   "outputs": [],
   "source": [
    "%matplotlib inline\n",
    "import pandas\n",
    "import matplotlib.pyplot as plt"
   ]
  },
  {
   "cell_type": "markdown",
   "id": "66f722c7",
   "metadata": {},
   "source": [
    "### Importing Data"
   ]
  },
  {
   "cell_type": "code",
   "execution_count": null,
   "id": "fea1641f",
   "metadata": {},
   "outputs": [],
   "source": [
    "df = pandas.read_excel('s3://ia241-perkinlp/covid_data.xls')"
   ]
  },
  {
   "cell_type": "code",
   "execution_count": null,
   "id": "328a12aa",
   "metadata": {},
   "outputs": [],
   "source": [
    "df = pandas.read_excel('s3://ia241-perkinlp/covid_data.xls')\n",
    "jp_data = df.loc[df['countriesAndTerritories'] == 'Japan']\n",
    "jp_data[:10]"
   ]
  },
  {
   "cell_type": "markdown",
   "id": "85b7440e",
   "metadata": {},
   "source": [
    "## What was Japan's deadliest month in 2020?"
   ]
  },
  {
   "cell_type": "code",
   "execution_count": null,
   "id": "9b3ee463",
   "metadata": {},
   "outputs": [],
   "source": [
    "deadliest_month = jp_data.groupby('month').sum()['deaths']\n",
    "deadliest_month.plot.bar()"
   ]
  },
  {
   "cell_type": "markdown",
   "id": "a1d8d039",
   "metadata": {},
   "source": [
    "This bar plot shows that May 2020 was the deadliest month for Japan, followed closely by December, and then September. For calculations, the deaths were summed and then grouped by month to allow for visualization of the deaths per each month."
   ]
  },
  {
   "cell_type": "markdown",
   "id": "03f8f4d3",
   "metadata": {},
   "source": [
    "## How did the pandemic progress in Japan in 2022?"
   ]
  },
  {
   "cell_type": "code",
   "execution_count": null,
   "id": "777f91c5",
   "metadata": {},
   "outputs": [],
   "source": [
    "sum_cases_per_day = jp_data.groupby('month').sum()['cases']\n",
    "sum_cases_per_day.plot()"
   ]
  },
  {
   "cell_type": "markdown",
   "id": "32fa7bfd",
   "metadata": {},
   "source": [
    "The number of cases in Japan steadily grew over 2020 with noticable spikes in cases in April, August, and November. For calculations, the cases were summed and then grouped by month to allow for visualization of the deaths per each month. A line graph was used to allow for easier visualization of trends."
   ]
  },
  {
   "cell_type": "markdown",
   "id": "c1b66024",
   "metadata": {},
   "source": [
    "## How did Japan's case to population ratio compare to the US' in 2020?"
   ]
  },
  {
   "cell_type": "code",
   "execution_count": null,
   "id": "5df1803b",
   "metadata": {},
   "outputs": [],
   "source": [
    "df = pandas.read_excel('s3://ia241-perkinlp/covid_data.xls')\n",
    "us_data = df.loc[df['countriesAndTerritories'] == 'United_States_of_America']\n",
    "us_cases = us_data.sum()['cases']\n",
    "us_cases"
   ]
  },
  {
   "cell_type": "code",
   "execution_count": null,
   "id": "84956dce",
   "metadata": {},
   "outputs": [],
   "source": [
    "jp_cases = jp_data.sum()['cases']\n",
    "jp_cases"
   ]
  },
  {
   "cell_type": "code",
   "execution_count": null,
   "id": "5821c4e2",
   "metadata": {},
   "outputs": [],
   "source": [
    "us_cases - jp_cases"
   ]
  },
  {
   "cell_type": "code",
   "execution_count": null,
   "id": "afc5c762",
   "metadata": {},
   "outputs": [],
   "source": [
    "us_population = us_data.median()['popData2019']\n",
    "us_population"
   ]
  },
  {
   "cell_type": "code",
   "execution_count": null,
   "id": "6349d0be",
   "metadata": {},
   "outputs": [],
   "source": [
    "jp_population = jp_data.median()['popData2019']\n",
    "jp_population"
   ]
  },
  {
   "cell_type": "code",
   "execution_count": null,
   "id": "388043de",
   "metadata": {},
   "outputs": [],
   "source": [
    "jp_cases/jp_population"
   ]
  },
  {
   "cell_type": "code",
   "execution_count": null,
   "id": "358d1249",
   "metadata": {},
   "outputs": [],
   "source": [
    "us_cases/us_population"
   ]
  },
  {
   "cell_type": "markdown",
   "id": "aed0877f",
   "metadata": {},
   "source": [
    "Japan had a much lower case to population ratio, with around .00142 cases per person, while the US had .0494 cases per person. For calculations, the summed cases from each country were divided by the median populations to provide us with the ratios."
   ]
  },
  {
   "cell_type": "markdown",
   "id": "0da34e37",
   "metadata": {},
   "source": [
    "## How does Japan's average number of cases per month compare to the rest of Asia?"
   ]
  },
  {
   "cell_type": "code",
   "execution_count": null,
   "id": "eed9f142",
   "metadata": {},
   "outputs": [],
   "source": [
    "df = pandas.read_excel('s3://ia241-perkinlp/covid_data.xls')\n",
    "asia_data = df.loc[df['continentExp'] == 'Asia']\n",
    "plt.title('Average Cases per Month in Asia')\n",
    "avg_cases_per_month_as = asia_data.groupby('month').mean()['cases']\n",
    "avg_cases_per_month_as.plot()"
   ]
  },
  {
   "cell_type": "code",
   "execution_count": null,
   "id": "b93dd61d",
   "metadata": {
    "scrolled": true
   },
   "outputs": [],
   "source": [
    "plt.title('Average Cases per Month in Japan')\n",
    "avg_cases_per_month_jp = jp_data.groupby('month').mean()['cases']\n",
    "avg_cases_per_month_jp.plot()"
   ]
  },
  {
   "cell_type": "markdown",
   "id": "39d181d7",
   "metadata": {},
   "source": [
    "Japan followed a similar trend to the rest of Asia, though typically averaging fewer cases than their neighbors. For calculations, a mean was used to average the number of cases, and then group them by months."
   ]
  },
  {
   "cell_type": "markdown",
   "id": "3992c70a",
   "metadata": {},
   "source": [
    "# Conclusion"
   ]
  },
  {
   "cell_type": "markdown",
   "id": "1de0941d",
   "metadata": {},
   "source": [
    "This website helps to both explain spikes in COVID deaths in Japan, in addition to helping assess Japan's response to the pandemic in comparison to their peers. In the first half of the website, a link can be drawn between the months with high cases, and the months with high deaths. Every month with a case spike in Japan was followed by a death spike (April-May, August-September, November-December). This can help health authorities anticipate spikes in death and hospitalization in the future.\n",
    "\n",
    "In the second half, Japan's efforts are compared. Japan's case to population ratio is revealed to be lower than the US's, indicating a more successful response to limiting the spread of COVID-19 than America. Similarly, in the last section, Japan's average cases per month are typically lower than the rest of Asia, demonstrating their relative success in reducing COVID spread in 2020. This can help to identify effective public health strategies.\n",
    "\n",
    "Limitations:\n",
    "There are some limitations to this data. Conclusions can only be used in the context of 2020, which is where this data is from. Due to new variants of COVID emerging every day, conclusions regarding the links with high case and death rates (following each other in monthly spikes) may not apply. Similarly, the Japanese data was only compared to the US and Asia, and therefore can only be discussed in comparison to those two regions/countries.\n",
    "\n",
    "Improvements:\n",
    "To mitigate some of the limitations, it would be helpful to include more recent data and compare it to more countries/regions. This would provide a more updated and relevant understanding of the Japanese response to COVID-19, and would allow us to draw more conclusions due to the newer data and comparisons. In addition, developing a vizualization for the case to population ratios would make the data easier to understand."
   ]
  }
 ],
 "metadata": {
  "kernelspec": {
   "display_name": "conda_python3",
   "language": "python",
   "name": "conda_python3"
  },
  "language_info": {
   "codemirror_mode": {
    "name": "ipython",
    "version": 3
   },
   "file_extension": ".py",
   "mimetype": "text/x-python",
   "name": "python",
   "nbconvert_exporter": "python",
   "pygments_lexer": "ipython3",
   "version": "3.6.13"
  }
 },
 "nbformat": 4,
 "nbformat_minor": 5
}
